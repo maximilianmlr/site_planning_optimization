{
 "cells": [
  {
   "cell_type": "code",
   "execution_count": 2,
   "metadata": {},
   "outputs": [],
   "source": [
    "import pandas as pd\n",
    "import numpy as np\n",
    "from geopy.distance import vincenty\n",
    "from tqdm import tqdm\n",
    "import geopy.distance\n",
    "\n",
    "plz_nrw = pd.read_csv('https://raw.githubusercontent.com/mexemt/location_optimization/master/Datasets/plz_nrw.csv', encoding='unicode_escape')\n",
    "\n",
    "plz_nrw['coord'] = list(zip(plz_nrw.latitude, plz_nrw.longitude))\n",
    "square = pd.DataFrame(\n",
    "    np.zeros(len(plz_nrw) ** 2).reshape(len(plz_nrw), len(plz_nrw)),\n",
    "    index=plz_nrw.index, columns=plz_nrw.index)"
   ]
  },
  {
   "cell_type": "markdown",
   "metadata": {},
   "source": [
    "vincenty 3 mins faster and more accurate than geopy.distance.distance"
   ]
  },
  {
   "cell_type": "code",
   "execution_count": 3,
   "metadata": {},
   "outputs": [],
   "source": [
    "def get_distance(col):\n",
    "    end = plz_nrw.ix[col.name]['coord']\n",
    "    return plz_nrw['coord'].apply(vincenty, args=(end,), ellipsoid='WGS-84')"
   ]
  },
  {
   "cell_type": "code",
   "execution_count": 4,
   "metadata": {},
   "outputs": [],
   "source": [
    "tqdm.pandas()"
   ]
  },
  {
   "cell_type": "code",
   "execution_count": 5,
   "metadata": {},
   "outputs": [
    {
     "output_type": "stream",
     "name": "stderr",
     "text": "100%|██████████| 872/872 [00:33<00:00, 26.42it/s]\n"
    }
   ],
   "source": [
    "distances = square.progress_apply(get_distance, axis=1).T"
   ]
  },
  {
   "cell_type": "code",
   "execution_count": 6,
   "metadata": {},
   "outputs": [],
   "source": [
    "distances.index = plz_nrw['plz']\n",
    "distances.columns = plz_nrw['plz']"
   ]
  },
  {
   "cell_type": "code",
   "execution_count": 8,
   "metadata": {},
   "outputs": [],
   "source": [
    "def units(input_df):\n",
    "    return input_df.km\n",
    "\n",
    "distances = distances.applymap(units)"
   ]
  },
  {
   "cell_type": "code",
   "execution_count": 9,
   "metadata": {},
   "outputs": [
    {
     "output_type": "execute_result",
     "data": {
      "text/plain": "plz         52062       52064       52066       52068       52070       52072  \\\nplz                                                                             \n52062    0.000000    0.833805    2.309969    2.543782    1.809500    5.355872   \n52064    0.833805    0.000000    2.005460    3.124071    2.641788    5.837448   \n52066    2.309969    2.005460    0.000000    2.760604    3.671349    7.665822   \n52068    2.543782    3.124071    2.760604    0.000000    2.159128    6.688759   \n52070    1.809500    2.641788    3.671349    2.159128    0.000000    4.538301   \n...           ...         ...         ...         ...         ...         ...   \n42389   99.817134  100.557649  100.003537   97.514427   98.281348   99.564296   \n42399   98.110042   98.830247   98.179906   95.754950   96.625293   98.131593   \n52146    6.071168    6.881911    7.100406    4.354309    4.393901    6.796071   \n46509  104.732184  105.530335  106.468564  103.855580  102.967750  100.777183   \n53909   43.253110   43.455263   41.649869   40.946118   42.997214   47.179710   \n\nplz         52074       52076       52078       52080  ...      42289  \\\nplz                                                    ...              \n52062    3.288065    9.066985    6.172449    5.368398  ...  97.252918   \n52064    2.731993    8.758703    6.367336    5.918150  ...  97.995532   \n52066    4.365852    6.781901    4.688917    5.043703  ...  97.452614   \n52068    5.810844    8.180905    4.101299    2.824678  ...  94.956397   \n52070    4.717025   10.053074    6.260380    4.613524  ...  95.711995   \n...           ...         ...         ...         ...  ...        ...   \n42389  102.996315   99.706324   96.206236   94.960017  ...   2.620378   \n42399  101.327213   97.546137   94.247215   93.140891  ...   5.559837   \n52146    9.104348   11.736866    6.652919    3.747935  ...  91.341557   \n46509  106.444593  110.897641  105.672836  102.921365  ...  76.044609   \n53909   46.015584   36.498595   37.095787   38.432051  ...  76.471331   \n\nplz        42327      42329      42349      42369       42389      42399  \\\nplz                                                                        \n52062  85.152887  86.051710  89.802878  92.718592   99.817134  98.110042   \n52064  85.917421  86.804128  90.544667  93.447796  100.557649  98.830247   \n52066  85.497375  86.315558  89.999442  92.840291  100.003537  98.179906   \n52068  82.930060  83.786165  87.504288  90.385586   97.514427  95.754950   \n52070  83.556636  84.486637  88.264593  91.211795   98.281348  96.625293   \n...          ...        ...        ...        ...         ...        ...   \n42389  15.912863  14.079131  10.018650   7.626408    0.000000   5.305656   \n42399  16.843124  14.249761   9.726343   5.778035    5.305656   0.000000   \n52146  79.166390  80.105903  83.895772  86.860832   93.913405  92.288735   \n46509  68.258612  71.343120  74.442791  77.958850   77.342176  81.532872   \n53909  68.378280  67.651902  69.716423  70.961191   78.567689  74.925188   \n\nplz        52146       46509       53909  \nplz                                       \n52062   6.071168  104.732184   43.253110  \n52064   6.881911  105.530335   43.455263  \n52066   7.100406  106.468564   41.649869  \n52068   4.354309  103.855580   40.946118  \n52070   4.393901  102.967750   42.997214  \n...          ...         ...         ...  \n42389  93.913405   77.342176   78.567689  \n42399  92.288735   81.532872   74.925188  \n52146   0.000000   99.593354   40.767530  \n46509  99.593354    0.000000  115.648434  \n53909  40.767530  115.648434    0.000000  \n\n[872 rows x 872 columns]",
      "text/html": "<div>\n<style scoped>\n    .dataframe tbody tr th:only-of-type {\n        vertical-align: middle;\n    }\n\n    .dataframe tbody tr th {\n        vertical-align: top;\n    }\n\n    .dataframe thead th {\n        text-align: right;\n    }\n</style>\n<table border=\"1\" class=\"dataframe\">\n  <thead>\n    <tr style=\"text-align: right;\">\n      <th>plz</th>\n      <th>52062</th>\n      <th>52064</th>\n      <th>52066</th>\n      <th>52068</th>\n      <th>52070</th>\n      <th>52072</th>\n      <th>52074</th>\n      <th>52076</th>\n      <th>52078</th>\n      <th>52080</th>\n      <th>...</th>\n      <th>42289</th>\n      <th>42327</th>\n      <th>42329</th>\n      <th>42349</th>\n      <th>42369</th>\n      <th>42389</th>\n      <th>42399</th>\n      <th>52146</th>\n      <th>46509</th>\n      <th>53909</th>\n    </tr>\n    <tr>\n      <th>plz</th>\n      <th></th>\n      <th></th>\n      <th></th>\n      <th></th>\n      <th></th>\n      <th></th>\n      <th></th>\n      <th></th>\n      <th></th>\n      <th></th>\n      <th></th>\n      <th></th>\n      <th></th>\n      <th></th>\n      <th></th>\n      <th></th>\n      <th></th>\n      <th></th>\n      <th></th>\n      <th></th>\n      <th></th>\n    </tr>\n  </thead>\n  <tbody>\n    <tr>\n      <th>52062</th>\n      <td>0.000000</td>\n      <td>0.833805</td>\n      <td>2.309969</td>\n      <td>2.543782</td>\n      <td>1.809500</td>\n      <td>5.355872</td>\n      <td>3.288065</td>\n      <td>9.066985</td>\n      <td>6.172449</td>\n      <td>5.368398</td>\n      <td>...</td>\n      <td>97.252918</td>\n      <td>85.152887</td>\n      <td>86.051710</td>\n      <td>89.802878</td>\n      <td>92.718592</td>\n      <td>99.817134</td>\n      <td>98.110042</td>\n      <td>6.071168</td>\n      <td>104.732184</td>\n      <td>43.253110</td>\n    </tr>\n    <tr>\n      <th>52064</th>\n      <td>0.833805</td>\n      <td>0.000000</td>\n      <td>2.005460</td>\n      <td>3.124071</td>\n      <td>2.641788</td>\n      <td>5.837448</td>\n      <td>2.731993</td>\n      <td>8.758703</td>\n      <td>6.367336</td>\n      <td>5.918150</td>\n      <td>...</td>\n      <td>97.995532</td>\n      <td>85.917421</td>\n      <td>86.804128</td>\n      <td>90.544667</td>\n      <td>93.447796</td>\n      <td>100.557649</td>\n      <td>98.830247</td>\n      <td>6.881911</td>\n      <td>105.530335</td>\n      <td>43.455263</td>\n    </tr>\n    <tr>\n      <th>52066</th>\n      <td>2.309969</td>\n      <td>2.005460</td>\n      <td>0.000000</td>\n      <td>2.760604</td>\n      <td>3.671349</td>\n      <td>7.665822</td>\n      <td>4.365852</td>\n      <td>6.781901</td>\n      <td>4.688917</td>\n      <td>5.043703</td>\n      <td>...</td>\n      <td>97.452614</td>\n      <td>85.497375</td>\n      <td>86.315558</td>\n      <td>89.999442</td>\n      <td>92.840291</td>\n      <td>100.003537</td>\n      <td>98.179906</td>\n      <td>7.100406</td>\n      <td>106.468564</td>\n      <td>41.649869</td>\n    </tr>\n    <tr>\n      <th>52068</th>\n      <td>2.543782</td>\n      <td>3.124071</td>\n      <td>2.760604</td>\n      <td>0.000000</td>\n      <td>2.159128</td>\n      <td>6.688759</td>\n      <td>5.810844</td>\n      <td>8.180905</td>\n      <td>4.101299</td>\n      <td>2.824678</td>\n      <td>...</td>\n      <td>94.956397</td>\n      <td>82.930060</td>\n      <td>83.786165</td>\n      <td>87.504288</td>\n      <td>90.385586</td>\n      <td>97.514427</td>\n      <td>95.754950</td>\n      <td>4.354309</td>\n      <td>103.855580</td>\n      <td>40.946118</td>\n    </tr>\n    <tr>\n      <th>52070</th>\n      <td>1.809500</td>\n      <td>2.641788</td>\n      <td>3.671349</td>\n      <td>2.159128</td>\n      <td>0.000000</td>\n      <td>4.538301</td>\n      <td>4.717025</td>\n      <td>10.053074</td>\n      <td>6.260380</td>\n      <td>4.613524</td>\n      <td>...</td>\n      <td>95.711995</td>\n      <td>83.556636</td>\n      <td>84.486637</td>\n      <td>88.264593</td>\n      <td>91.211795</td>\n      <td>98.281348</td>\n      <td>96.625293</td>\n      <td>4.393901</td>\n      <td>102.967750</td>\n      <td>42.997214</td>\n    </tr>\n    <tr>\n      <th>...</th>\n      <td>...</td>\n      <td>...</td>\n      <td>...</td>\n      <td>...</td>\n      <td>...</td>\n      <td>...</td>\n      <td>...</td>\n      <td>...</td>\n      <td>...</td>\n      <td>...</td>\n      <td>...</td>\n      <td>...</td>\n      <td>...</td>\n      <td>...</td>\n      <td>...</td>\n      <td>...</td>\n      <td>...</td>\n      <td>...</td>\n      <td>...</td>\n      <td>...</td>\n      <td>...</td>\n    </tr>\n    <tr>\n      <th>42389</th>\n      <td>99.817134</td>\n      <td>100.557649</td>\n      <td>100.003537</td>\n      <td>97.514427</td>\n      <td>98.281348</td>\n      <td>99.564296</td>\n      <td>102.996315</td>\n      <td>99.706324</td>\n      <td>96.206236</td>\n      <td>94.960017</td>\n      <td>...</td>\n      <td>2.620378</td>\n      <td>15.912863</td>\n      <td>14.079131</td>\n      <td>10.018650</td>\n      <td>7.626408</td>\n      <td>0.000000</td>\n      <td>5.305656</td>\n      <td>93.913405</td>\n      <td>77.342176</td>\n      <td>78.567689</td>\n    </tr>\n    <tr>\n      <th>42399</th>\n      <td>98.110042</td>\n      <td>98.830247</td>\n      <td>98.179906</td>\n      <td>95.754950</td>\n      <td>96.625293</td>\n      <td>98.131593</td>\n      <td>101.327213</td>\n      <td>97.546137</td>\n      <td>94.247215</td>\n      <td>93.140891</td>\n      <td>...</td>\n      <td>5.559837</td>\n      <td>16.843124</td>\n      <td>14.249761</td>\n      <td>9.726343</td>\n      <td>5.778035</td>\n      <td>5.305656</td>\n      <td>0.000000</td>\n      <td>92.288735</td>\n      <td>81.532872</td>\n      <td>74.925188</td>\n    </tr>\n    <tr>\n      <th>52146</th>\n      <td>6.071168</td>\n      <td>6.881911</td>\n      <td>7.100406</td>\n      <td>4.354309</td>\n      <td>4.393901</td>\n      <td>6.796071</td>\n      <td>9.104348</td>\n      <td>11.736866</td>\n      <td>6.652919</td>\n      <td>3.747935</td>\n      <td>...</td>\n      <td>91.341557</td>\n      <td>79.166390</td>\n      <td>80.105903</td>\n      <td>83.895772</td>\n      <td>86.860832</td>\n      <td>93.913405</td>\n      <td>92.288735</td>\n      <td>0.000000</td>\n      <td>99.593354</td>\n      <td>40.767530</td>\n    </tr>\n    <tr>\n      <th>46509</th>\n      <td>104.732184</td>\n      <td>105.530335</td>\n      <td>106.468564</td>\n      <td>103.855580</td>\n      <td>102.967750</td>\n      <td>100.777183</td>\n      <td>106.444593</td>\n      <td>110.897641</td>\n      <td>105.672836</td>\n      <td>102.921365</td>\n      <td>...</td>\n      <td>76.044609</td>\n      <td>68.258612</td>\n      <td>71.343120</td>\n      <td>74.442791</td>\n      <td>77.958850</td>\n      <td>77.342176</td>\n      <td>81.532872</td>\n      <td>99.593354</td>\n      <td>0.000000</td>\n      <td>115.648434</td>\n    </tr>\n    <tr>\n      <th>53909</th>\n      <td>43.253110</td>\n      <td>43.455263</td>\n      <td>41.649869</td>\n      <td>40.946118</td>\n      <td>42.997214</td>\n      <td>47.179710</td>\n      <td>46.015584</td>\n      <td>36.498595</td>\n      <td>37.095787</td>\n      <td>38.432051</td>\n      <td>...</td>\n      <td>76.471331</td>\n      <td>68.378280</td>\n      <td>67.651902</td>\n      <td>69.716423</td>\n      <td>70.961191</td>\n      <td>78.567689</td>\n      <td>74.925188</td>\n      <td>40.767530</td>\n      <td>115.648434</td>\n      <td>0.000000</td>\n    </tr>\n  </tbody>\n</table>\n<p>872 rows × 872 columns</p>\n</div>"
     },
     "metadata": {},
     "execution_count": 9
    }
   ],
   "source": [
    "distances"
   ]
  },
  {
   "cell_type": "code",
   "execution_count": null,
   "metadata": {},
   "outputs": [],
   "source": []
  }
 ],
 "metadata": {
  "language_info": {
   "codemirror_mode": {
    "name": "ipython",
    "version": 3
   },
   "file_extension": ".py",
   "mimetype": "text/x-python",
   "name": "python",
   "nbconvert_exporter": "python",
   "pygments_lexer": "ipython3",
   "version": "3.8.1-final"
  },
  "orig_nbformat": 2,
  "kernelspec": {
   "name": "python38164bit5c1f37b6c9a54041b919349822ecacd2",
   "display_name": "Python 3.8.1 64-bit"
  }
 },
 "nbformat": 4,
 "nbformat_minor": 2
}