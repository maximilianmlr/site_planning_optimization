{
 "cells": [
  {
   "cell_type": "code",
   "execution_count": 18,
   "metadata": {},
   "outputs": [],
   "source": [
    "import numpy as np\n",
    "import pandas as pd\n",
    "import csv\n",
    "from geopy.distance import vincenty\n",
    "import random"
   ]
  },
  {
   "cell_type": "code",
   "execution_count": 20,
   "metadata": {},
   "outputs": [],
   "source": [
    "plz_nrw = pd.read_csv('https://raw.githubusercontent.com/mexemt/location_optimization/master/Datasets/plz_nrw.csv', encoding='unicode_escape')\n",
    "plz_nrw = pd.DataFrame(plz_nrw)\n",
    "distances = pd.read_csv('https://raw.githubusercontent.com/mexemt/location_optimization/master/Datasets/distances.csv', encoding='unicode_escape', index_col=0)\n",
    "distances = pd.DataFrame(distances)"
   ]
  },
  {
   "cell_type": "code",
   "execution_count": 22,
   "metadata": {},
   "outputs": [
    {
     "output_type": "execute_result",
     "data": {
      "text/plain": "            52062       52064       52066       52068       52070       52072  \\\nplz                                                                             \n52062    0.000000    0.833805    2.309969    2.543782    1.809500    5.355872   \n52064    0.833805    0.000000    2.005460    3.124071    2.641788    5.837448   \n52066    2.309969    2.005460    0.000000    2.760604    3.671349    7.665822   \n52068    2.543782    3.124071    2.760604    0.000000    2.159128    6.688759   \n52070    1.809500    2.641788    3.671349    2.159128    0.000000    4.538301   \n...           ...         ...         ...         ...         ...         ...   \n42389   99.817134  100.557649  100.003537   97.514427   98.281348   99.564296   \n42399   98.110042   98.830247   98.179906   95.754950   96.625293   98.131593   \n52146    6.071168    6.881911    7.100406    4.354309    4.393901    6.796071   \n46509  104.732184  105.530335  106.468564  103.855580  102.967750  100.777183   \n53909   43.253110   43.455263   41.649869   40.946118   42.997214   47.179710   \n\n            52074       52076       52078       52080  ...      42289  \\\nplz                                                    ...              \n52062    3.288065    9.066985    6.172449    5.368398  ...  97.252918   \n52064    2.731993    8.758703    6.367336    5.918150  ...  97.995532   \n52066    4.365852    6.781901    4.688917    5.043703  ...  97.452614   \n52068    5.810844    8.180905    4.101299    2.824678  ...  94.956397   \n52070    4.717025   10.053074    6.260380    4.613524  ...  95.711995   \n...           ...         ...         ...         ...  ...        ...   \n42389  102.996315   99.706324   96.206236   94.960017  ...   2.620378   \n42399  101.327213   97.546137   94.247215   93.140891  ...   5.559837   \n52146    9.104348   11.736866    6.652919    3.747935  ...  91.341557   \n46509  106.444593  110.897641  105.672836  102.921365  ...  76.044609   \n53909   46.015584   36.498595   37.095787   38.432051  ...  76.471331   \n\n           42327      42329      42349      42369       42389      42399  \\\nplz                                                                        \n52062  85.152887  86.051710  89.802878  92.718592   99.817134  98.110042   \n52064  85.917421  86.804128  90.544667  93.447796  100.557649  98.830247   \n52066  85.497375  86.315558  89.999442  92.840291  100.003537  98.179906   \n52068  82.930060  83.786165  87.504288  90.385586   97.514427  95.754950   \n52070  83.556636  84.486637  88.264593  91.211795   98.281348  96.625293   \n...          ...        ...        ...        ...         ...        ...   \n42389  15.912863  14.079131  10.018650   7.626408    0.000000   5.305656   \n42399  16.843124  14.249761   9.726343   5.778035    5.305656   0.000000   \n52146  79.166390  80.105903  83.895772  86.860832   93.913405  92.288735   \n46509  68.258612  71.343120  74.442791  77.958850   77.342176  81.532872   \n53909  68.378280  67.651902  69.716423  70.961191   78.567689  74.925188   \n\n           52146       46509       53909  \nplz                                       \n52062   6.071168  104.732184   43.253110  \n52064   6.881911  105.530335   43.455263  \n52066   7.100406  106.468564   41.649869  \n52068   4.354309  103.855580   40.946118  \n52070   4.393901  102.967750   42.997214  \n...          ...         ...         ...  \n42389  93.913405   77.342176   78.567689  \n42399  92.288735   81.532872   74.925188  \n52146   0.000000   99.593354   40.767530  \n46509  99.593354    0.000000  115.648434  \n53909  40.767530  115.648434    0.000000  \n\n[872 rows x 872 columns]",
      "text/html": "<div>\n<style scoped>\n    .dataframe tbody tr th:only-of-type {\n        vertical-align: middle;\n    }\n\n    .dataframe tbody tr th {\n        vertical-align: top;\n    }\n\n    .dataframe thead th {\n        text-align: right;\n    }\n</style>\n<table border=\"1\" class=\"dataframe\">\n  <thead>\n    <tr style=\"text-align: right;\">\n      <th></th>\n      <th>52062</th>\n      <th>52064</th>\n      <th>52066</th>\n      <th>52068</th>\n      <th>52070</th>\n      <th>52072</th>\n      <th>52074</th>\n      <th>52076</th>\n      <th>52078</th>\n      <th>52080</th>\n      <th>...</th>\n      <th>42289</th>\n      <th>42327</th>\n      <th>42329</th>\n      <th>42349</th>\n      <th>42369</th>\n      <th>42389</th>\n      <th>42399</th>\n      <th>52146</th>\n      <th>46509</th>\n      <th>53909</th>\n    </tr>\n    <tr>\n      <th>plz</th>\n      <th></th>\n      <th></th>\n      <th></th>\n      <th></th>\n      <th></th>\n      <th></th>\n      <th></th>\n      <th></th>\n      <th></th>\n      <th></th>\n      <th></th>\n      <th></th>\n      <th></th>\n      <th></th>\n      <th></th>\n      <th></th>\n      <th></th>\n      <th></th>\n      <th></th>\n      <th></th>\n      <th></th>\n    </tr>\n  </thead>\n  <tbody>\n    <tr>\n      <th>52062</th>\n      <td>0.000000</td>\n      <td>0.833805</td>\n      <td>2.309969</td>\n      <td>2.543782</td>\n      <td>1.809500</td>\n      <td>5.355872</td>\n      <td>3.288065</td>\n      <td>9.066985</td>\n      <td>6.172449</td>\n      <td>5.368398</td>\n      <td>...</td>\n      <td>97.252918</td>\n      <td>85.152887</td>\n      <td>86.051710</td>\n      <td>89.802878</td>\n      <td>92.718592</td>\n      <td>99.817134</td>\n      <td>98.110042</td>\n      <td>6.071168</td>\n      <td>104.732184</td>\n      <td>43.253110</td>\n    </tr>\n    <tr>\n      <th>52064</th>\n      <td>0.833805</td>\n      <td>0.000000</td>\n      <td>2.005460</td>\n      <td>3.124071</td>\n      <td>2.641788</td>\n      <td>5.837448</td>\n      <td>2.731993</td>\n      <td>8.758703</td>\n      <td>6.367336</td>\n      <td>5.918150</td>\n      <td>...</td>\n      <td>97.995532</td>\n      <td>85.917421</td>\n      <td>86.804128</td>\n      <td>90.544667</td>\n      <td>93.447796</td>\n      <td>100.557649</td>\n      <td>98.830247</td>\n      <td>6.881911</td>\n      <td>105.530335</td>\n      <td>43.455263</td>\n    </tr>\n    <tr>\n      <th>52066</th>\n      <td>2.309969</td>\n      <td>2.005460</td>\n      <td>0.000000</td>\n      <td>2.760604</td>\n      <td>3.671349</td>\n      <td>7.665822</td>\n      <td>4.365852</td>\n      <td>6.781901</td>\n      <td>4.688917</td>\n      <td>5.043703</td>\n      <td>...</td>\n      <td>97.452614</td>\n      <td>85.497375</td>\n      <td>86.315558</td>\n      <td>89.999442</td>\n      <td>92.840291</td>\n      <td>100.003537</td>\n      <td>98.179906</td>\n      <td>7.100406</td>\n      <td>106.468564</td>\n      <td>41.649869</td>\n    </tr>\n    <tr>\n      <th>52068</th>\n      <td>2.543782</td>\n      <td>3.124071</td>\n      <td>2.760604</td>\n      <td>0.000000</td>\n      <td>2.159128</td>\n      <td>6.688759</td>\n      <td>5.810844</td>\n      <td>8.180905</td>\n      <td>4.101299</td>\n      <td>2.824678</td>\n      <td>...</td>\n      <td>94.956397</td>\n      <td>82.930060</td>\n      <td>83.786165</td>\n      <td>87.504288</td>\n      <td>90.385586</td>\n      <td>97.514427</td>\n      <td>95.754950</td>\n      <td>4.354309</td>\n      <td>103.855580</td>\n      <td>40.946118</td>\n    </tr>\n    <tr>\n      <th>52070</th>\n      <td>1.809500</td>\n      <td>2.641788</td>\n      <td>3.671349</td>\n      <td>2.159128</td>\n      <td>0.000000</td>\n      <td>4.538301</td>\n      <td>4.717025</td>\n      <td>10.053074</td>\n      <td>6.260380</td>\n      <td>4.613524</td>\n      <td>...</td>\n      <td>95.711995</td>\n      <td>83.556636</td>\n      <td>84.486637</td>\n      <td>88.264593</td>\n      <td>91.211795</td>\n      <td>98.281348</td>\n      <td>96.625293</td>\n      <td>4.393901</td>\n      <td>102.967750</td>\n      <td>42.997214</td>\n    </tr>\n    <tr>\n      <th>...</th>\n      <td>...</td>\n      <td>...</td>\n      <td>...</td>\n      <td>...</td>\n      <td>...</td>\n      <td>...</td>\n      <td>...</td>\n      <td>...</td>\n      <td>...</td>\n      <td>...</td>\n      <td>...</td>\n      <td>...</td>\n      <td>...</td>\n      <td>...</td>\n      <td>...</td>\n      <td>...</td>\n      <td>...</td>\n      <td>...</td>\n      <td>...</td>\n      <td>...</td>\n      <td>...</td>\n    </tr>\n    <tr>\n      <th>42389</th>\n      <td>99.817134</td>\n      <td>100.557649</td>\n      <td>100.003537</td>\n      <td>97.514427</td>\n      <td>98.281348</td>\n      <td>99.564296</td>\n      <td>102.996315</td>\n      <td>99.706324</td>\n      <td>96.206236</td>\n      <td>94.960017</td>\n      <td>...</td>\n      <td>2.620378</td>\n      <td>15.912863</td>\n      <td>14.079131</td>\n      <td>10.018650</td>\n      <td>7.626408</td>\n      <td>0.000000</td>\n      <td>5.305656</td>\n      <td>93.913405</td>\n      <td>77.342176</td>\n      <td>78.567689</td>\n    </tr>\n    <tr>\n      <th>42399</th>\n      <td>98.110042</td>\n      <td>98.830247</td>\n      <td>98.179906</td>\n      <td>95.754950</td>\n      <td>96.625293</td>\n      <td>98.131593</td>\n      <td>101.327213</td>\n      <td>97.546137</td>\n      <td>94.247215</td>\n      <td>93.140891</td>\n      <td>...</td>\n      <td>5.559837</td>\n      <td>16.843124</td>\n      <td>14.249761</td>\n      <td>9.726343</td>\n      <td>5.778035</td>\n      <td>5.305656</td>\n      <td>0.000000</td>\n      <td>92.288735</td>\n      <td>81.532872</td>\n      <td>74.925188</td>\n    </tr>\n    <tr>\n      <th>52146</th>\n      <td>6.071168</td>\n      <td>6.881911</td>\n      <td>7.100406</td>\n      <td>4.354309</td>\n      <td>4.393901</td>\n      <td>6.796071</td>\n      <td>9.104348</td>\n      <td>11.736866</td>\n      <td>6.652919</td>\n      <td>3.747935</td>\n      <td>...</td>\n      <td>91.341557</td>\n      <td>79.166390</td>\n      <td>80.105903</td>\n      <td>83.895772</td>\n      <td>86.860832</td>\n      <td>93.913405</td>\n      <td>92.288735</td>\n      <td>0.000000</td>\n      <td>99.593354</td>\n      <td>40.767530</td>\n    </tr>\n    <tr>\n      <th>46509</th>\n      <td>104.732184</td>\n      <td>105.530335</td>\n      <td>106.468564</td>\n      <td>103.855580</td>\n      <td>102.967750</td>\n      <td>100.777183</td>\n      <td>106.444593</td>\n      <td>110.897641</td>\n      <td>105.672836</td>\n      <td>102.921365</td>\n      <td>...</td>\n      <td>76.044609</td>\n      <td>68.258612</td>\n      <td>71.343120</td>\n      <td>74.442791</td>\n      <td>77.958850</td>\n      <td>77.342176</td>\n      <td>81.532872</td>\n      <td>99.593354</td>\n      <td>0.000000</td>\n      <td>115.648434</td>\n    </tr>\n    <tr>\n      <th>53909</th>\n      <td>43.253110</td>\n      <td>43.455263</td>\n      <td>41.649869</td>\n      <td>40.946118</td>\n      <td>42.997214</td>\n      <td>47.179710</td>\n      <td>46.015584</td>\n      <td>36.498595</td>\n      <td>37.095787</td>\n      <td>38.432051</td>\n      <td>...</td>\n      <td>76.471331</td>\n      <td>68.378280</td>\n      <td>67.651902</td>\n      <td>69.716423</td>\n      <td>70.961191</td>\n      <td>78.567689</td>\n      <td>74.925188</td>\n      <td>40.767530</td>\n      <td>115.648434</td>\n      <td>0.000000</td>\n    </tr>\n  </tbody>\n</table>\n<p>872 rows × 872 columns</p>\n</div>"
     },
     "metadata": {},
     "execution_count": 22
    }
   ],
   "source": [
    "distances"
   ]
  },
  {
   "cell_type": "code",
   "execution_count": 24,
   "metadata": {},
   "outputs": [],
   "source": [
    "locations = pd.DataFrame(plz_nrw['plz'])\n",
    "customers = pd.DataFrame(plz_nrw['plz'])"
   ]
  },
  {
   "cell_type": "code",
   "execution_count": null,
   "metadata": {},
   "outputs": [],
   "source": [
    "locations['open'] = 0\n",
    "locations['fixed_costs'] = 0\n",
    "customers['demand'] = 0"
   ]
  },
  {
   "cell_type": "code",
   "execution_count": 27,
   "metadata": {},
   "outputs": [],
   "source": [
    "rng_cost_fx_low = range(10, 100)\n",
    "rng_cost_fx_high = range(10, 100)\n",
    "locations['fixed_costs'] = [random.choice(rng_cost_fx_low) for x in locations['fixed_costs']]\n",
    "\n",
    "rng_demand_low = range(1, 10)\n",
    "rng_demand_high = range(10, 100)\n",
    "customers['demand'] = [random.choice(rng_demand_low) for x in customers['demand']]"
   ]
  },
  {
   "cell_type": "code",
   "execution_count": 29,
   "metadata": {},
   "outputs": [
    {
     "output_type": "execute_result",
     "data": {
      "text/plain": "       plz  demand\n0    52062       3\n1    52064       1\n2    52066       4\n3    52068       8\n4    52070       2\n..     ...     ...\n867  42389       4\n868  42399       9\n869  52146       4\n870  46509       5\n871  53909       4\n\n[872 rows x 2 columns]",
      "text/html": "<div>\n<style scoped>\n    .dataframe tbody tr th:only-of-type {\n        vertical-align: middle;\n    }\n\n    .dataframe tbody tr th {\n        vertical-align: top;\n    }\n\n    .dataframe thead th {\n        text-align: right;\n    }\n</style>\n<table border=\"1\" class=\"dataframe\">\n  <thead>\n    <tr style=\"text-align: right;\">\n      <th></th>\n      <th>plz</th>\n      <th>demand</th>\n    </tr>\n  </thead>\n  <tbody>\n    <tr>\n      <th>0</th>\n      <td>52062</td>\n      <td>3</td>\n    </tr>\n    <tr>\n      <th>1</th>\n      <td>52064</td>\n      <td>1</td>\n    </tr>\n    <tr>\n      <th>2</th>\n      <td>52066</td>\n      <td>4</td>\n    </tr>\n    <tr>\n      <th>3</th>\n      <td>52068</td>\n      <td>8</td>\n    </tr>\n    <tr>\n      <th>4</th>\n      <td>52070</td>\n      <td>2</td>\n    </tr>\n    <tr>\n      <th>...</th>\n      <td>...</td>\n      <td>...</td>\n    </tr>\n    <tr>\n      <th>867</th>\n      <td>42389</td>\n      <td>4</td>\n    </tr>\n    <tr>\n      <th>868</th>\n      <td>42399</td>\n      <td>9</td>\n    </tr>\n    <tr>\n      <th>869</th>\n      <td>52146</td>\n      <td>4</td>\n    </tr>\n    <tr>\n      <th>870</th>\n      <td>46509</td>\n      <td>5</td>\n    </tr>\n    <tr>\n      <th>871</th>\n      <td>53909</td>\n      <td>4</td>\n    </tr>\n  </tbody>\n</table>\n<p>872 rows × 2 columns</p>\n</div>"
     },
     "metadata": {},
     "execution_count": 29
    }
   ],
   "source": [
    "customers"
   ]
  },
  {
   "cell_type": "code",
   "execution_count": 31,
   "metadata": {},
   "outputs": [
    {
     "output_type": "execute_result",
     "data": {
      "text/plain": "       plz  open  fixed_costs\n0    52062     0           66\n1    52064     0           50\n2    52066     0           70\n3    52068     0           31\n4    52070     0           75\n..     ...   ...          ...\n867  42389     0           64\n868  42399     0           93\n869  52146     0           19\n870  46509     0           62\n871  53909     0           93\n\n[872 rows x 3 columns]",
      "text/html": "<div>\n<style scoped>\n    .dataframe tbody tr th:only-of-type {\n        vertical-align: middle;\n    }\n\n    .dataframe tbody tr th {\n        vertical-align: top;\n    }\n\n    .dataframe thead th {\n        text-align: right;\n    }\n</style>\n<table border=\"1\" class=\"dataframe\">\n  <thead>\n    <tr style=\"text-align: right;\">\n      <th></th>\n      <th>plz</th>\n      <th>open</th>\n      <th>fixed_costs</th>\n    </tr>\n  </thead>\n  <tbody>\n    <tr>\n      <th>0</th>\n      <td>52062</td>\n      <td>0</td>\n      <td>66</td>\n    </tr>\n    <tr>\n      <th>1</th>\n      <td>52064</td>\n      <td>0</td>\n      <td>50</td>\n    </tr>\n    <tr>\n      <th>2</th>\n      <td>52066</td>\n      <td>0</td>\n      <td>70</td>\n    </tr>\n    <tr>\n      <th>3</th>\n      <td>52068</td>\n      <td>0</td>\n      <td>31</td>\n    </tr>\n    <tr>\n      <th>4</th>\n      <td>52070</td>\n      <td>0</td>\n      <td>75</td>\n    </tr>\n    <tr>\n      <th>...</th>\n      <td>...</td>\n      <td>...</td>\n      <td>...</td>\n    </tr>\n    <tr>\n      <th>867</th>\n      <td>42389</td>\n      <td>0</td>\n      <td>64</td>\n    </tr>\n    <tr>\n      <th>868</th>\n      <td>42399</td>\n      <td>0</td>\n      <td>93</td>\n    </tr>\n    <tr>\n      <th>869</th>\n      <td>52146</td>\n      <td>0</td>\n      <td>19</td>\n    </tr>\n    <tr>\n      <th>870</th>\n      <td>46509</td>\n      <td>0</td>\n      <td>62</td>\n    </tr>\n    <tr>\n      <th>871</th>\n      <td>53909</td>\n      <td>0</td>\n      <td>93</td>\n    </tr>\n  </tbody>\n</table>\n<p>872 rows × 3 columns</p>\n</div>"
     },
     "metadata": {},
     "execution_count": 31
    }
   ],
   "source": [
    "locations"
   ]
  },
  {
   "cell_type": "code",
   "execution_count": 33,
   "metadata": {},
   "outputs": [
    {
     "output_type": "execute_result",
     "data": {
      "text/plain": "            52062       52064       52066       52068       52070       52072  \\\nplz                                                                             \n52062    0.000000    0.833805    2.309969    2.543782    1.809500    5.355872   \n52064    0.833805    0.000000    2.005460    3.124071    2.641788    5.837448   \n52066    2.309969    2.005460    0.000000    2.760604    3.671349    7.665822   \n52068    2.543782    3.124071    2.760604    0.000000    2.159128    6.688759   \n52070    1.809500    2.641788    3.671349    2.159128    0.000000    4.538301   \n...           ...         ...         ...         ...         ...         ...   \n42389   99.817134  100.557649  100.003537   97.514427   98.281348   99.564296   \n42399   98.110042   98.830247   98.179906   95.754950   96.625293   98.131593   \n52146    6.071168    6.881911    7.100406    4.354309    4.393901    6.796071   \n46509  104.732184  105.530335  106.468564  103.855580  102.967750  100.777183   \n53909   43.253110   43.455263   41.649869   40.946118   42.997214   47.179710   \n\n            52074       52076       52078       52080  ...      42289  \\\nplz                                                    ...              \n52062    3.288065    9.066985    6.172449    5.368398  ...  97.252918   \n52064    2.731993    8.758703    6.367336    5.918150  ...  97.995532   \n52066    4.365852    6.781901    4.688917    5.043703  ...  97.452614   \n52068    5.810844    8.180905    4.101299    2.824678  ...  94.956397   \n52070    4.717025   10.053074    6.260380    4.613524  ...  95.711995   \n...           ...         ...         ...         ...  ...        ...   \n42389  102.996315   99.706324   96.206236   94.960017  ...   2.620378   \n42399  101.327213   97.546137   94.247215   93.140891  ...   5.559837   \n52146    9.104348   11.736866    6.652919    3.747935  ...  91.341557   \n46509  106.444593  110.897641  105.672836  102.921365  ...  76.044609   \n53909   46.015584   36.498595   37.095787   38.432051  ...  76.471331   \n\n           42327      42329      42349      42369       42389      42399  \\\nplz                                                                        \n52062  85.152887  86.051710  89.802878  92.718592   99.817134  98.110042   \n52064  85.917421  86.804128  90.544667  93.447796  100.557649  98.830247   \n52066  85.497375  86.315558  89.999442  92.840291  100.003537  98.179906   \n52068  82.930060  83.786165  87.504288  90.385586   97.514427  95.754950   \n52070  83.556636  84.486637  88.264593  91.211795   98.281348  96.625293   \n...          ...        ...        ...        ...         ...        ...   \n42389  15.912863  14.079131  10.018650   7.626408    0.000000   5.305656   \n42399  16.843124  14.249761   9.726343   5.778035    5.305656   0.000000   \n52146  79.166390  80.105903  83.895772  86.860832   93.913405  92.288735   \n46509  68.258612  71.343120  74.442791  77.958850   77.342176  81.532872   \n53909  68.378280  67.651902  69.716423  70.961191   78.567689  74.925188   \n\n           52146       46509       53909  \nplz                                       \n52062   6.071168  104.732184   43.253110  \n52064   6.881911  105.530335   43.455263  \n52066   7.100406  106.468564   41.649869  \n52068   4.354309  103.855580   40.946118  \n52070   4.393901  102.967750   42.997214  \n...          ...         ...         ...  \n42389  93.913405   77.342176   78.567689  \n42399  92.288735   81.532872   74.925188  \n52146   0.000000   99.593354   40.767530  \n46509  99.593354    0.000000  115.648434  \n53909  40.767530  115.648434    0.000000  \n\n[872 rows x 872 columns]",
      "text/html": "<div>\n<style scoped>\n    .dataframe tbody tr th:only-of-type {\n        vertical-align: middle;\n    }\n\n    .dataframe tbody tr th {\n        vertical-align: top;\n    }\n\n    .dataframe thead th {\n        text-align: right;\n    }\n</style>\n<table border=\"1\" class=\"dataframe\">\n  <thead>\n    <tr style=\"text-align: right;\">\n      <th></th>\n      <th>52062</th>\n      <th>52064</th>\n      <th>52066</th>\n      <th>52068</th>\n      <th>52070</th>\n      <th>52072</th>\n      <th>52074</th>\n      <th>52076</th>\n      <th>52078</th>\n      <th>52080</th>\n      <th>...</th>\n      <th>42289</th>\n      <th>42327</th>\n      <th>42329</th>\n      <th>42349</th>\n      <th>42369</th>\n      <th>42389</th>\n      <th>42399</th>\n      <th>52146</th>\n      <th>46509</th>\n      <th>53909</th>\n    </tr>\n    <tr>\n      <th>plz</th>\n      <th></th>\n      <th></th>\n      <th></th>\n      <th></th>\n      <th></th>\n      <th></th>\n      <th></th>\n      <th></th>\n      <th></th>\n      <th></th>\n      <th></th>\n      <th></th>\n      <th></th>\n      <th></th>\n      <th></th>\n      <th></th>\n      <th></th>\n      <th></th>\n      <th></th>\n      <th></th>\n      <th></th>\n    </tr>\n  </thead>\n  <tbody>\n    <tr>\n      <th>52062</th>\n      <td>0.000000</td>\n      <td>0.833805</td>\n      <td>2.309969</td>\n      <td>2.543782</td>\n      <td>1.809500</td>\n      <td>5.355872</td>\n      <td>3.288065</td>\n      <td>9.066985</td>\n      <td>6.172449</td>\n      <td>5.368398</td>\n      <td>...</td>\n      <td>97.252918</td>\n      <td>85.152887</td>\n      <td>86.051710</td>\n      <td>89.802878</td>\n      <td>92.718592</td>\n      <td>99.817134</td>\n      <td>98.110042</td>\n      <td>6.071168</td>\n      <td>104.732184</td>\n      <td>43.253110</td>\n    </tr>\n    <tr>\n      <th>52064</th>\n      <td>0.833805</td>\n      <td>0.000000</td>\n      <td>2.005460</td>\n      <td>3.124071</td>\n      <td>2.641788</td>\n      <td>5.837448</td>\n      <td>2.731993</td>\n      <td>8.758703</td>\n      <td>6.367336</td>\n      <td>5.918150</td>\n      <td>...</td>\n      <td>97.995532</td>\n      <td>85.917421</td>\n      <td>86.804128</td>\n      <td>90.544667</td>\n      <td>93.447796</td>\n      <td>100.557649</td>\n      <td>98.830247</td>\n      <td>6.881911</td>\n      <td>105.530335</td>\n      <td>43.455263</td>\n    </tr>\n    <tr>\n      <th>52066</th>\n      <td>2.309969</td>\n      <td>2.005460</td>\n      <td>0.000000</td>\n      <td>2.760604</td>\n      <td>3.671349</td>\n      <td>7.665822</td>\n      <td>4.365852</td>\n      <td>6.781901</td>\n      <td>4.688917</td>\n      <td>5.043703</td>\n      <td>...</td>\n      <td>97.452614</td>\n      <td>85.497375</td>\n      <td>86.315558</td>\n      <td>89.999442</td>\n      <td>92.840291</td>\n      <td>100.003537</td>\n      <td>98.179906</td>\n      <td>7.100406</td>\n      <td>106.468564</td>\n      <td>41.649869</td>\n    </tr>\n    <tr>\n      <th>52068</th>\n      <td>2.543782</td>\n      <td>3.124071</td>\n      <td>2.760604</td>\n      <td>0.000000</td>\n      <td>2.159128</td>\n      <td>6.688759</td>\n      <td>5.810844</td>\n      <td>8.180905</td>\n      <td>4.101299</td>\n      <td>2.824678</td>\n      <td>...</td>\n      <td>94.956397</td>\n      <td>82.930060</td>\n      <td>83.786165</td>\n      <td>87.504288</td>\n      <td>90.385586</td>\n      <td>97.514427</td>\n      <td>95.754950</td>\n      <td>4.354309</td>\n      <td>103.855580</td>\n      <td>40.946118</td>\n    </tr>\n    <tr>\n      <th>52070</th>\n      <td>1.809500</td>\n      <td>2.641788</td>\n      <td>3.671349</td>\n      <td>2.159128</td>\n      <td>0.000000</td>\n      <td>4.538301</td>\n      <td>4.717025</td>\n      <td>10.053074</td>\n      <td>6.260380</td>\n      <td>4.613524</td>\n      <td>...</td>\n      <td>95.711995</td>\n      <td>83.556636</td>\n      <td>84.486637</td>\n      <td>88.264593</td>\n      <td>91.211795</td>\n      <td>98.281348</td>\n      <td>96.625293</td>\n      <td>4.393901</td>\n      <td>102.967750</td>\n      <td>42.997214</td>\n    </tr>\n    <tr>\n      <th>...</th>\n      <td>...</td>\n      <td>...</td>\n      <td>...</td>\n      <td>...</td>\n      <td>...</td>\n      <td>...</td>\n      <td>...</td>\n      <td>...</td>\n      <td>...</td>\n      <td>...</td>\n      <td>...</td>\n      <td>...</td>\n      <td>...</td>\n      <td>...</td>\n      <td>...</td>\n      <td>...</td>\n      <td>...</td>\n      <td>...</td>\n      <td>...</td>\n      <td>...</td>\n      <td>...</td>\n    </tr>\n    <tr>\n      <th>42389</th>\n      <td>99.817134</td>\n      <td>100.557649</td>\n      <td>100.003537</td>\n      <td>97.514427</td>\n      <td>98.281348</td>\n      <td>99.564296</td>\n      <td>102.996315</td>\n      <td>99.706324</td>\n      <td>96.206236</td>\n      <td>94.960017</td>\n      <td>...</td>\n      <td>2.620378</td>\n      <td>15.912863</td>\n      <td>14.079131</td>\n      <td>10.018650</td>\n      <td>7.626408</td>\n      <td>0.000000</td>\n      <td>5.305656</td>\n      <td>93.913405</td>\n      <td>77.342176</td>\n      <td>78.567689</td>\n    </tr>\n    <tr>\n      <th>42399</th>\n      <td>98.110042</td>\n      <td>98.830247</td>\n      <td>98.179906</td>\n      <td>95.754950</td>\n      <td>96.625293</td>\n      <td>98.131593</td>\n      <td>101.327213</td>\n      <td>97.546137</td>\n      <td>94.247215</td>\n      <td>93.140891</td>\n      <td>...</td>\n      <td>5.559837</td>\n      <td>16.843124</td>\n      <td>14.249761</td>\n      <td>9.726343</td>\n      <td>5.778035</td>\n      <td>5.305656</td>\n      <td>0.000000</td>\n      <td>92.288735</td>\n      <td>81.532872</td>\n      <td>74.925188</td>\n    </tr>\n    <tr>\n      <th>52146</th>\n      <td>6.071168</td>\n      <td>6.881911</td>\n      <td>7.100406</td>\n      <td>4.354309</td>\n      <td>4.393901</td>\n      <td>6.796071</td>\n      <td>9.104348</td>\n      <td>11.736866</td>\n      <td>6.652919</td>\n      <td>3.747935</td>\n      <td>...</td>\n      <td>91.341557</td>\n      <td>79.166390</td>\n      <td>80.105903</td>\n      <td>83.895772</td>\n      <td>86.860832</td>\n      <td>93.913405</td>\n      <td>92.288735</td>\n      <td>0.000000</td>\n      <td>99.593354</td>\n      <td>40.767530</td>\n    </tr>\n    <tr>\n      <th>46509</th>\n      <td>104.732184</td>\n      <td>105.530335</td>\n      <td>106.468564</td>\n      <td>103.855580</td>\n      <td>102.967750</td>\n      <td>100.777183</td>\n      <td>106.444593</td>\n      <td>110.897641</td>\n      <td>105.672836</td>\n      <td>102.921365</td>\n      <td>...</td>\n      <td>76.044609</td>\n      <td>68.258612</td>\n      <td>71.343120</td>\n      <td>74.442791</td>\n      <td>77.958850</td>\n      <td>77.342176</td>\n      <td>81.532872</td>\n      <td>99.593354</td>\n      <td>0.000000</td>\n      <td>115.648434</td>\n    </tr>\n    <tr>\n      <th>53909</th>\n      <td>43.253110</td>\n      <td>43.455263</td>\n      <td>41.649869</td>\n      <td>40.946118</td>\n      <td>42.997214</td>\n      <td>47.179710</td>\n      <td>46.015584</td>\n      <td>36.498595</td>\n      <td>37.095787</td>\n      <td>38.432051</td>\n      <td>...</td>\n      <td>76.471331</td>\n      <td>68.378280</td>\n      <td>67.651902</td>\n      <td>69.716423</td>\n      <td>70.961191</td>\n      <td>78.567689</td>\n      <td>74.925188</td>\n      <td>40.767530</td>\n      <td>115.648434</td>\n      <td>0.000000</td>\n    </tr>\n  </tbody>\n</table>\n<p>872 rows × 872 columns</p>\n</div>"
     },
     "metadata": {},
     "execution_count": 33
    }
   ],
   "source": [
    "distances"
   ]
  },
  {
   "cell_type": "markdown",
   "metadata": {},
   "source": [
    "## **Implementierung Add/Drop-Heuristik**"
   ]
  },
  {
   "cell_type": "markdown",
   "metadata": {},
   "source": [
    "### Add-Heuristik"
   ]
  },
  {
   "cell_type": "code",
   "execution_count": 35,
   "metadata": {},
   "outputs": [],
   "source": [
    "I = pd.DataFrame()"
   ]
  },
  {
   "cell_type": "code",
   "execution_count": 37,
   "metadata": {},
   "outputs": [],
   "source": [
    "z_old = 1000000000000000\n",
    "z_new = z_old-1\n",
    "z_list = []\n",
    "var_list = []\n",
    "z_fx = 0"
   ]
  },
  {
   "cell_type": "code",
   "execution_count": 39,
   "metadata": {
    "tags": [
     "outputPrepend",
     "outputPrepend",
     "outputPrepend",
     "outputPrepend",
     "outputPrepend",
     "outputPrepend"
    ]
   },
   "outputs": [],
   "source": [
    "while z_new < z_old:\n",
    "    z_old = z_new\n",
    "    for index, row in locations.iterrows():\n",
    "        if row['open'] == 0:\n",
    "                z_fix = row['fixed_costs']\n",
    "                z = z_fix + sum([a * b for a, b in zip(list(distances.iloc[len(range(index)),:]), list(customers.demand))])\n",
    "                if z < z_new:\n",
    "                    z_new = z\n",
    "                    i_low = index\n",
    "    if z_new < z_old:\n",
    "        locations.ix[i_low]['open'] = 1\n",
    "        z_fx = z_fx + z_fix\n",
    "        I = I.append(distances.ix[locations.ix[i_low]['plz']], sort=False)"
   ]
  },
  {
   "cell_type": "markdown",
   "metadata": {},
   "source": [
    "ToDo: Umschreiben der I = I.append(distances.ix[locations.ix[i_low]['plz']], sort=False) Funktion wegen pandas Update, Liste I mit kostenminimalen Lösungen vervollständigen"
   ]
  },
  {
   "cell_type": "code",
   "execution_count": 47,
   "metadata": {},
   "outputs": [
    {
     "output_type": "execute_result",
     "data": {
      "text/plain": "Empty DataFrame\nColumns: []\nIndex: []",
      "text/html": "<div>\n<style scoped>\n    .dataframe tbody tr th:only-of-type {\n        vertical-align: middle;\n    }\n\n    .dataframe tbody tr th {\n        vertical-align: top;\n    }\n\n    .dataframe thead th {\n        text-align: right;\n    }\n</style>\n<table border=\"1\" class=\"dataframe\">\n  <thead>\n    <tr style=\"text-align: right;\">\n      <th></th>\n    </tr>\n  </thead>\n  <tbody>\n  </tbody>\n</table>\n</div>"
     },
     "metadata": {},
     "execution_count": 47
    }
   ],
   "source": [
    "I"
   ]
  },
  {
   "cell_type": "code",
   "execution_count": 57,
   "metadata": {},
   "outputs": [
    {
     "output_type": "error",
     "ename": "TypeError",
     "evalue": "cannot do label indexing on <class 'pandas.core.indexes.base.Index'> with these indexers [42555] of <class 'numpy.int64'>",
     "traceback": [
      "\u001b[1;31m---------------------------------------------------------------------------\u001b[0m",
      "\u001b[1;31mTypeError\u001b[0m                                 Traceback (most recent call last)",
      "\u001b[1;32m<ipython-input-57-f4b38e7867cb>\u001b[0m in \u001b[0;36m<module>\u001b[1;34m\u001b[0m\n\u001b[1;32m----> 1\u001b[1;33m \u001b[0mdistances\u001b[0m\u001b[1;33m.\u001b[0m\u001b[0mloc\u001b[0m\u001b[1;33m[\u001b[0m\u001b[1;33m:\u001b[0m\u001b[1;33m,\u001b[0m\u001b[0mlocations\u001b[0m\u001b[1;33m.\u001b[0m\u001b[0mloc\u001b[0m\u001b[1;33m[\u001b[0m\u001b[0mi_low\u001b[0m\u001b[1;33m,\u001b[0m\u001b[1;33m:\u001b[0m\u001b[1;33m]\u001b[0m\u001b[1;33m[\u001b[0m\u001b[1;34m'plz'\u001b[0m\u001b[1;33m]\u001b[0m\u001b[1;33m]\u001b[0m\u001b[1;33m\u001b[0m\u001b[1;33m\u001b[0m\u001b[0m\n\u001b[0m",
      "\u001b[1;32m~\\AppData\\Roaming\\Python\\Python38\\site-packages\\pandas\\core\\indexing.py\u001b[0m in \u001b[0;36m__getitem__\u001b[1;34m(self, key)\u001b[0m\n\u001b[0;32m   1760\u001b[0m                 \u001b[1;32mexcept\u001b[0m \u001b[1;33m(\u001b[0m\u001b[0mKeyError\u001b[0m\u001b[1;33m,\u001b[0m \u001b[0mIndexError\u001b[0m\u001b[1;33m,\u001b[0m \u001b[0mAttributeError\u001b[0m\u001b[1;33m)\u001b[0m\u001b[1;33m:\u001b[0m\u001b[1;33m\u001b[0m\u001b[1;33m\u001b[0m\u001b[0m\n\u001b[0;32m   1761\u001b[0m                     \u001b[1;32mpass\u001b[0m\u001b[1;33m\u001b[0m\u001b[1;33m\u001b[0m\u001b[0m\n\u001b[1;32m-> 1762\u001b[1;33m             \u001b[1;32mreturn\u001b[0m \u001b[0mself\u001b[0m\u001b[1;33m.\u001b[0m\u001b[0m_getitem_tuple\u001b[0m\u001b[1;33m(\u001b[0m\u001b[0mkey\u001b[0m\u001b[1;33m)\u001b[0m\u001b[1;33m\u001b[0m\u001b[1;33m\u001b[0m\u001b[0m\n\u001b[0m\u001b[0;32m   1763\u001b[0m         \u001b[1;32melse\u001b[0m\u001b[1;33m:\u001b[0m\u001b[1;33m\u001b[0m\u001b[1;33m\u001b[0m\u001b[0m\n\u001b[0;32m   1764\u001b[0m             \u001b[1;31m# we by definition only have the 0th axis\u001b[0m\u001b[1;33m\u001b[0m\u001b[1;33m\u001b[0m\u001b[1;33m\u001b[0m\u001b[0m\n",
      "\u001b[1;32m~\\AppData\\Roaming\\Python\\Python38\\site-packages\\pandas\\core\\indexing.py\u001b[0m in \u001b[0;36m_getitem_tuple\u001b[1;34m(self, tup)\u001b[0m\n\u001b[0;32m   1270\u001b[0m     \u001b[1;32mdef\u001b[0m \u001b[0m_getitem_tuple\u001b[0m\u001b[1;33m(\u001b[0m\u001b[0mself\u001b[0m\u001b[1;33m,\u001b[0m \u001b[0mtup\u001b[0m\u001b[1;33m:\u001b[0m \u001b[0mTuple\u001b[0m\u001b[1;33m)\u001b[0m\u001b[1;33m:\u001b[0m\u001b[1;33m\u001b[0m\u001b[1;33m\u001b[0m\u001b[0m\n\u001b[0;32m   1271\u001b[0m         \u001b[1;32mtry\u001b[0m\u001b[1;33m:\u001b[0m\u001b[1;33m\u001b[0m\u001b[1;33m\u001b[0m\u001b[0m\n\u001b[1;32m-> 1272\u001b[1;33m             \u001b[1;32mreturn\u001b[0m \u001b[0mself\u001b[0m\u001b[1;33m.\u001b[0m\u001b[0m_getitem_lowerdim\u001b[0m\u001b[1;33m(\u001b[0m\u001b[0mtup\u001b[0m\u001b[1;33m)\u001b[0m\u001b[1;33m\u001b[0m\u001b[1;33m\u001b[0m\u001b[0m\n\u001b[0m\u001b[0;32m   1273\u001b[0m         \u001b[1;32mexcept\u001b[0m \u001b[0mIndexingError\u001b[0m\u001b[1;33m:\u001b[0m\u001b[1;33m\u001b[0m\u001b[1;33m\u001b[0m\u001b[0m\n\u001b[0;32m   1274\u001b[0m             \u001b[1;32mpass\u001b[0m\u001b[1;33m\u001b[0m\u001b[1;33m\u001b[0m\u001b[0m\n",
      "\u001b[1;32m~\\AppData\\Roaming\\Python\\Python38\\site-packages\\pandas\\core\\indexing.py\u001b[0m in \u001b[0;36m_getitem_lowerdim\u001b[1;34m(self, tup)\u001b[0m\n\u001b[0;32m   1387\u001b[0m         \u001b[1;32mfor\u001b[0m \u001b[0mi\u001b[0m\u001b[1;33m,\u001b[0m \u001b[0mkey\u001b[0m \u001b[1;32min\u001b[0m \u001b[0menumerate\u001b[0m\u001b[1;33m(\u001b[0m\u001b[0mtup\u001b[0m\u001b[1;33m)\u001b[0m\u001b[1;33m:\u001b[0m\u001b[1;33m\u001b[0m\u001b[1;33m\u001b[0m\u001b[0m\n\u001b[0;32m   1388\u001b[0m             \u001b[1;32mif\u001b[0m \u001b[0mis_label_like\u001b[0m\u001b[1;33m(\u001b[0m\u001b[0mkey\u001b[0m\u001b[1;33m)\u001b[0m \u001b[1;32mor\u001b[0m \u001b[0misinstance\u001b[0m\u001b[1;33m(\u001b[0m\u001b[0mkey\u001b[0m\u001b[1;33m,\u001b[0m \u001b[0mtuple\u001b[0m\u001b[1;33m)\u001b[0m\u001b[1;33m:\u001b[0m\u001b[1;33m\u001b[0m\u001b[1;33m\u001b[0m\u001b[0m\n\u001b[1;32m-> 1389\u001b[1;33m                 \u001b[0msection\u001b[0m \u001b[1;33m=\u001b[0m \u001b[0mself\u001b[0m\u001b[1;33m.\u001b[0m\u001b[0m_getitem_axis\u001b[0m\u001b[1;33m(\u001b[0m\u001b[0mkey\u001b[0m\u001b[1;33m,\u001b[0m \u001b[0maxis\u001b[0m\u001b[1;33m=\u001b[0m\u001b[0mi\u001b[0m\u001b[1;33m)\u001b[0m\u001b[1;33m\u001b[0m\u001b[1;33m\u001b[0m\u001b[0m\n\u001b[0m\u001b[0;32m   1390\u001b[0m \u001b[1;33m\u001b[0m\u001b[0m\n\u001b[0;32m   1391\u001b[0m                 \u001b[1;31m# we have yielded a scalar ?\u001b[0m\u001b[1;33m\u001b[0m\u001b[1;33m\u001b[0m\u001b[1;33m\u001b[0m\u001b[0m\n",
      "\u001b[1;32m~\\AppData\\Roaming\\Python\\Python38\\site-packages\\pandas\\core\\indexing.py\u001b[0m in \u001b[0;36m_getitem_axis\u001b[1;34m(self, key, axis)\u001b[0m\n\u001b[0;32m   1962\u001b[0m \u001b[1;33m\u001b[0m\u001b[0m\n\u001b[0;32m   1963\u001b[0m         \u001b[1;31m# fall thru to straight lookup\u001b[0m\u001b[1;33m\u001b[0m\u001b[1;33m\u001b[0m\u001b[1;33m\u001b[0m\u001b[0m\n\u001b[1;32m-> 1964\u001b[1;33m         \u001b[0mself\u001b[0m\u001b[1;33m.\u001b[0m\u001b[0m_validate_key\u001b[0m\u001b[1;33m(\u001b[0m\u001b[0mkey\u001b[0m\u001b[1;33m,\u001b[0m \u001b[0maxis\u001b[0m\u001b[1;33m)\u001b[0m\u001b[1;33m\u001b[0m\u001b[1;33m\u001b[0m\u001b[0m\n\u001b[0m\u001b[0;32m   1965\u001b[0m         \u001b[1;32mreturn\u001b[0m \u001b[0mself\u001b[0m\u001b[1;33m.\u001b[0m\u001b[0m_get_label\u001b[0m\u001b[1;33m(\u001b[0m\u001b[0mkey\u001b[0m\u001b[1;33m,\u001b[0m \u001b[0maxis\u001b[0m\u001b[1;33m=\u001b[0m\u001b[0maxis\u001b[0m\u001b[1;33m)\u001b[0m\u001b[1;33m\u001b[0m\u001b[1;33m\u001b[0m\u001b[0m\n\u001b[0;32m   1966\u001b[0m \u001b[1;33m\u001b[0m\u001b[0m\n",
      "\u001b[1;32m~\\AppData\\Roaming\\Python\\Python38\\site-packages\\pandas\\core\\indexing.py\u001b[0m in \u001b[0;36m_validate_key\u001b[1;34m(self, key, axis)\u001b[0m\n\u001b[0;32m   1829\u001b[0m \u001b[1;33m\u001b[0m\u001b[0m\n\u001b[0;32m   1830\u001b[0m         \u001b[1;32mif\u001b[0m \u001b[1;32mnot\u001b[0m \u001b[0mis_list_like_indexer\u001b[0m\u001b[1;33m(\u001b[0m\u001b[0mkey\u001b[0m\u001b[1;33m)\u001b[0m\u001b[1;33m:\u001b[0m\u001b[1;33m\u001b[0m\u001b[1;33m\u001b[0m\u001b[0m\n\u001b[1;32m-> 1831\u001b[1;33m             \u001b[0mself\u001b[0m\u001b[1;33m.\u001b[0m\u001b[0m_convert_scalar_indexer\u001b[0m\u001b[1;33m(\u001b[0m\u001b[0mkey\u001b[0m\u001b[1;33m,\u001b[0m \u001b[0maxis\u001b[0m\u001b[1;33m)\u001b[0m\u001b[1;33m\u001b[0m\u001b[1;33m\u001b[0m\u001b[0m\n\u001b[0m\u001b[0;32m   1832\u001b[0m \u001b[1;33m\u001b[0m\u001b[0m\n\u001b[0;32m   1833\u001b[0m     \u001b[1;32mdef\u001b[0m \u001b[0m_is_scalar_access\u001b[0m\u001b[1;33m(\u001b[0m\u001b[0mself\u001b[0m\u001b[1;33m,\u001b[0m \u001b[0mkey\u001b[0m\u001b[1;33m:\u001b[0m \u001b[0mTuple\u001b[0m\u001b[1;33m)\u001b[0m \u001b[1;33m->\u001b[0m \u001b[0mbool\u001b[0m\u001b[1;33m:\u001b[0m\u001b[1;33m\u001b[0m\u001b[1;33m\u001b[0m\u001b[0m\n",
      "\u001b[1;32m~\\AppData\\Roaming\\Python\\Python38\\site-packages\\pandas\\core\\indexing.py\u001b[0m in \u001b[0;36m_convert_scalar_indexer\u001b[1;34m(self, key, axis)\u001b[0m\n\u001b[0;32m    739\u001b[0m         \u001b[0max\u001b[0m \u001b[1;33m=\u001b[0m \u001b[0mself\u001b[0m\u001b[1;33m.\u001b[0m\u001b[0mobj\u001b[0m\u001b[1;33m.\u001b[0m\u001b[0m_get_axis\u001b[0m\u001b[1;33m(\u001b[0m\u001b[0mmin\u001b[0m\u001b[1;33m(\u001b[0m\u001b[0maxis\u001b[0m\u001b[1;33m,\u001b[0m \u001b[0mself\u001b[0m\u001b[1;33m.\u001b[0m\u001b[0mndim\u001b[0m \u001b[1;33m-\u001b[0m \u001b[1;36m1\u001b[0m\u001b[1;33m)\u001b[0m\u001b[1;33m)\u001b[0m\u001b[1;33m\u001b[0m\u001b[1;33m\u001b[0m\u001b[0m\n\u001b[0;32m    740\u001b[0m         \u001b[1;31m# a scalar\u001b[0m\u001b[1;33m\u001b[0m\u001b[1;33m\u001b[0m\u001b[1;33m\u001b[0m\u001b[0m\n\u001b[1;32m--> 741\u001b[1;33m         \u001b[1;32mreturn\u001b[0m \u001b[0max\u001b[0m\u001b[1;33m.\u001b[0m\u001b[0m_convert_scalar_indexer\u001b[0m\u001b[1;33m(\u001b[0m\u001b[0mkey\u001b[0m\u001b[1;33m,\u001b[0m \u001b[0mkind\u001b[0m\u001b[1;33m=\u001b[0m\u001b[0mself\u001b[0m\u001b[1;33m.\u001b[0m\u001b[0mname\u001b[0m\u001b[1;33m)\u001b[0m\u001b[1;33m\u001b[0m\u001b[1;33m\u001b[0m\u001b[0m\n\u001b[0m\u001b[0;32m    742\u001b[0m \u001b[1;33m\u001b[0m\u001b[0m\n\u001b[0;32m    743\u001b[0m     \u001b[1;32mdef\u001b[0m \u001b[0m_convert_slice_indexer\u001b[0m\u001b[1;33m(\u001b[0m\u001b[0mself\u001b[0m\u001b[1;33m,\u001b[0m \u001b[0mkey\u001b[0m\u001b[1;33m:\u001b[0m \u001b[0mslice\u001b[0m\u001b[1;33m,\u001b[0m \u001b[0maxis\u001b[0m\u001b[1;33m:\u001b[0m \u001b[0mint\u001b[0m\u001b[1;33m)\u001b[0m\u001b[1;33m:\u001b[0m\u001b[1;33m\u001b[0m\u001b[1;33m\u001b[0m\u001b[0m\n",
      "\u001b[1;32m~\\AppData\\Roaming\\Python\\Python38\\site-packages\\pandas\\core\\indexes\\base.py\u001b[0m in \u001b[0;36m_convert_scalar_indexer\u001b[1;34m(self, key, kind)\u001b[0m\n\u001b[0;32m   2885\u001b[0m             \u001b[1;32melif\u001b[0m \u001b[0mkind\u001b[0m \u001b[1;32min\u001b[0m \u001b[1;33m[\u001b[0m\u001b[1;34m\"loc\"\u001b[0m\u001b[1;33m]\u001b[0m \u001b[1;32mand\u001b[0m \u001b[0mis_integer\u001b[0m\u001b[1;33m(\u001b[0m\u001b[0mkey\u001b[0m\u001b[1;33m)\u001b[0m\u001b[1;33m:\u001b[0m\u001b[1;33m\u001b[0m\u001b[1;33m\u001b[0m\u001b[0m\n\u001b[0;32m   2886\u001b[0m                 \u001b[1;32mif\u001b[0m \u001b[1;32mnot\u001b[0m \u001b[0mself\u001b[0m\u001b[1;33m.\u001b[0m\u001b[0mholds_integer\u001b[0m\u001b[1;33m(\u001b[0m\u001b[1;33m)\u001b[0m\u001b[1;33m:\u001b[0m\u001b[1;33m\u001b[0m\u001b[1;33m\u001b[0m\u001b[0m\n\u001b[1;32m-> 2887\u001b[1;33m                     \u001b[0mself\u001b[0m\u001b[1;33m.\u001b[0m\u001b[0m_invalid_indexer\u001b[0m\u001b[1;33m(\u001b[0m\u001b[1;34m\"label\"\u001b[0m\u001b[1;33m,\u001b[0m \u001b[0mkey\u001b[0m\u001b[1;33m)\u001b[0m\u001b[1;33m\u001b[0m\u001b[1;33m\u001b[0m\u001b[0m\n\u001b[0m\u001b[0;32m   2888\u001b[0m \u001b[1;33m\u001b[0m\u001b[0m\n\u001b[0;32m   2889\u001b[0m         \u001b[1;32mreturn\u001b[0m \u001b[0mkey\u001b[0m\u001b[1;33m\u001b[0m\u001b[1;33m\u001b[0m\u001b[0m\n",
      "\u001b[1;32m~\\AppData\\Roaming\\Python\\Python38\\site-packages\\pandas\\core\\indexes\\base.py\u001b[0m in \u001b[0;36m_invalid_indexer\u001b[1;34m(self, form, key)\u001b[0m\n\u001b[0;32m   3073\u001b[0m         \u001b[0mConsistent\u001b[0m \u001b[0minvalid\u001b[0m \u001b[0mindexer\u001b[0m \u001b[0mmessage\u001b[0m\u001b[1;33m.\u001b[0m\u001b[1;33m\u001b[0m\u001b[1;33m\u001b[0m\u001b[0m\n\u001b[0;32m   3074\u001b[0m         \"\"\"\n\u001b[1;32m-> 3075\u001b[1;33m         raise TypeError(\n\u001b[0m\u001b[0;32m   3076\u001b[0m             \u001b[1;34mf\"cannot do {form} indexing on {type(self)} with these \"\u001b[0m\u001b[1;33m\u001b[0m\u001b[1;33m\u001b[0m\u001b[0m\n\u001b[0;32m   3077\u001b[0m             \u001b[1;34mf\"indexers [{key}] of {type(key)}\"\u001b[0m\u001b[1;33m\u001b[0m\u001b[1;33m\u001b[0m\u001b[0m\n",
      "\u001b[1;31mTypeError\u001b[0m: cannot do label indexing on <class 'pandas.core.indexes.base.Index'> with these indexers [42555] of <class 'numpy.int64'>"
     ]
    }
   ],
   "source": [
    "distances.loc[:,locations.loc[i_low,:]['plz']]"
   ]
  },
  {
   "cell_type": "code",
   "execution_count": 54,
   "metadata": {},
   "outputs": [
    {
     "output_type": "execute_result",
     "data": {
      "text/plain": "42555"
     },
     "metadata": {},
     "execution_count": 54
    }
   ],
   "source": [
    "locations.loc[i_low,:]['plz']"
   ]
  },
  {
   "cell_type": "code",
   "execution_count": 45,
   "metadata": {},
   "outputs": [
    {
     "output_type": "execute_result",
     "data": {
      "text/plain": "'1.0.3'"
     },
     "metadata": {},
     "execution_count": 45
    }
   ],
   "source": [
    "pd.__version__"
   ]
  }
 ],
 "metadata": {
  "language_info": {
   "codemirror_mode": {
    "name": "ipython",
    "version": 3
   },
   "file_extension": ".py",
   "mimetype": "text/x-python",
   "name": "python",
   "nbconvert_exporter": "python",
   "pygments_lexer": "ipython3",
   "version": "3.8.1-final"
  },
  "orig_nbformat": 2,
  "kernelspec": {
   "name": "python38164bit5c1f37b6c9a54041b919349822ecacd2",
   "display_name": "Python 3.8.1 64-bit"
  }
 },
 "nbformat": 4,
 "nbformat_minor": 2
}