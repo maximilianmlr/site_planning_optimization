{
 "cells": [
  {
   "cell_type": "code",
   "execution_count": 227,
   "metadata": {},
   "outputs": [],
   "source": [
    "import numpy as np\n",
    "import pandas as pd\n",
    "import csv\n",
    "from geopy.distance import vincenty\n",
    "import random"
   ]
  },
  {
   "cell_type": "code",
   "execution_count": 228,
   "metadata": {},
   "outputs": [],
   "source": [
    "plz_nrw = pd.read_csv('https://raw.githubusercontent.com/mexemt/location_optimization/master/Datasets/plz_nrw.csv', encoding='unicode_escape')\n",
    "plz_nrw = pd.DataFrame(plz_nrw)\n",
    "distances = pd.read_csv('https://raw.githubusercontent.com/mexemt/location_optimization/master/Datasets/distances.csv', encoding='unicode_escape', index_col=0)\n",
    "distances = pd.DataFrame(distances)"
   ]
  },
  {
   "cell_type": "code",
   "execution_count": 229,
   "metadata": {},
   "outputs": [],
   "source": [
    "locations = pd.DataFrame(plz_nrw['plz'])\n",
    "customers = pd.DataFrame(plz_nrw['plz'])"
   ]
  },
  {
   "cell_type": "code",
   "execution_count": 230,
   "metadata": {},
   "outputs": [],
   "source": [
    "locations['open'] = 0\n",
    "locations['fixed_costs'] = 0\n",
    "customers['demand'] = 0"
   ]
  },
  {
   "cell_type": "code",
   "execution_count": 239,
   "metadata": {},
   "outputs": [
    {
     "output_type": "error",
     "ename": "SyntaxError",
     "evalue": "invalid syntax (<ipython-input-239-72a908a17510>, line 6)",
     "traceback": [
      "\u001b[0;36m  File \u001b[0;32m\"<ipython-input-239-72a908a17510>\"\u001b[0;36m, line \u001b[0;32m6\u001b[0m\n\u001b[0;31m    rng_demand_high = range(10, 100).choice(rng_demand_low) for x in customers['demand']]\u001b[0m\n\u001b[0m                                                              ^\u001b[0m\n\u001b[0;31mSyntaxError\u001b[0m\u001b[0;31m:\u001b[0m invalid syntax\n"
     ]
    }
   ],
   "source": [
    "rng_cost_fx_low = range(100000, 200000)\n",
    "rng_cost_fx_high = range(10, 100)\n",
    "locations['fixed_costs'] = [random.choice(rng_cost_fx_low) for x in locations['fixed_costs']]\n",
    "\n",
    "rng_demand_low = range(1, 10)\n",
    "rng_demand_high = range(10, 100)\n",
    "customers['demand'] = [random.choice(rng_demand_low) for x in customers['demand']].choice(rng_demand_low) for x in customers['demand']]"
   ]
  },
  {
   "cell_type": "markdown",
   "metadata": {},
   "source": [
    "## **Implementierung Add/Drop-Heuristik**"
   ]
  },
  {
   "cell_type": "markdown",
   "metadata": {},
   "source": [
    "### Add-Heuristik"
   ]
  },
  {
   "cell_type": "code",
   "execution_count": 232,
   "metadata": {},
   "outputs": [],
   "source": [
    "I = pd.DataFrame()"
   ]
  },
  {
   "cell_type": "code",
   "execution_count": 233,
   "metadata": {},
   "outputs": [],
   "source": [
    "z_old = 1000000000000000\n",
    "z_new = z_old-1\n",
    "z_list = []\n",
    "var_list = []\n",
    "z_fx = 0\n",
    "dbg = 1"
   ]
  },
  {
   "cell_type": "code",
   "execution_count": 234,
   "metadata": {
    "tags": [
     "outputPrepend",
     "outputPrepend",
     "outputPrepend",
     "outputPrepend",
     "outputPrepend",
     "outputPrepend"
    ]
   },
   "outputs": [],
   "source": [
    "while z_new < z_old:\n",
    "    z_old = z_new\n",
    "    for index, row in locations.iterrows():\n",
    "        if row['open'] == 0:\n",
    "                z_fix = row['fixed_costs'] + z_fx\n",
    "                z = z_fix + sum([a * b for a, b in zip(list(pd.concat([I, pd.DataFrame(distances.iloc[len(range(index)),:]).T]).min()), list(customers.demand))])\n",
    "                if z < z_new:\n",
    "                    z_new = z\n",
    "                    z_fx_store = z_fix\n",
    "                    i_low = index\n",
    "    if z_new < z_old:\n",
    "        z_fx = z_fx_store\n",
    "        locations['open'].iloc[i_low] = 1\n",
    "        I = I.append(pd.DataFrame(distances.iloc[i_low,:]).T, sort=False)"
   ]
  },
  {
   "cell_type": "markdown",
   "metadata": {},
   "source": [
    "ToDo: Umschreiben der I = I.append(distances.ix[locations.ix[i_low]['plz']], sort=False) Funktion wegen pandas Update, Liste I mit kostenminimalen Lösungen vervollständigen"
   ]
  }
 ],
 "metadata": {
  "language_info": {
   "codemirror_mode": {
    "name": "ipython",
    "version": 3
   },
   "file_extension": ".py",
   "mimetype": "text/x-python",
   "name": "python",
   "nbconvert_exporter": "python",
   "pygments_lexer": "ipython3",
   "version": "3.7.1-final"
  },
  "orig_nbformat": 2,
  "kernelspec": {
   "name": "python37164bit9453e983e2de49c591305564b2375abc",
   "display_name": "Python 3.7.1 64-bit"
  }
 },
 "nbformat": 4,
 "nbformat_minor": 2
}