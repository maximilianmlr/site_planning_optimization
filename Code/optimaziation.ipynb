{
 "cells": [
  {
   "cell_type": "code",
   "execution_count": 263,
   "metadata": {},
   "outputs": [],
   "source": [
    "import numpy as np\n",
    "import pandas as pd\n",
    "import csv\n",
    "from geopy.distance import vincenty\n",
    "import random"
   ]
  },
  {
   "cell_type": "code",
   "execution_count": 264,
   "metadata": {},
   "outputs": [],
   "source": [
    "plz_nrw = pd.read_csv('https://raw.githubusercontent.com/mexemt/location_optimization/master/Datasets/plz_nrw.csv', encoding='unicode_escape')\n",
    "plz_nrw = pd.DataFrame(plz_nrw)\n",
    "distances = pd.read_csv('https://raw.githubusercontent.com/mexemt/location_optimization/master/Datasets/distances.csv', encoding='unicode_escape', index_col=0)\n",
    "distances = pd.DataFrame(distances)"
   ]
  },
  {
   "cell_type": "code",
   "execution_count": 265,
   "metadata": {},
   "outputs": [],
   "source": [
    "locations = pd.DataFrame(plz_nrw['plz'])\n",
    "customers = pd.DataFrame(plz_nrw['plz'])"
   ]
  },
  {
   "cell_type": "code",
   "execution_count": 266,
   "metadata": {},
   "outputs": [],
   "source": [
    "locations['open'] = 0\n",
    "locations['fixed_costs'] = 0\n",
    "customers['demand'] = 0"
   ]
  },
  {
   "cell_type": "code",
   "execution_count": 267,
   "metadata": {},
   "outputs": [],
   "source": [
    "rng_cost_fx_low = range(10000, 20000)\n",
    "rng_cost_fx_high = range(10, 100)\n",
    "locations['fixed_costs'] = [random.choice(rng_cost_fx_low) for x in locations['fixed_costs']]\n",
    "\n",
    "rng_demand_low = range(1, 10)\n",
    "rng_demand_high = range(10, 100)\n",
    "customers['demand'] = [random.choice(rng_demand_low) for x in customers['demand']]"
   ]
  },
  {
   "cell_type": "markdown",
   "metadata": {},
   "source": [
    "## **Implementierung Add/Drop-Heuristik**"
   ]
  },
  {
   "cell_type": "markdown",
   "metadata": {},
   "source": [
    "### Add-Heuristik"
   ]
  },
  {
   "cell_type": "code",
   "execution_count": 268,
   "metadata": {},
   "outputs": [],
   "source": [
    "I = pd.DataFrame()"
   ]
  },
  {
   "cell_type": "code",
   "execution_count": 269,
   "metadata": {},
   "outputs": [],
   "source": [
    "z_old = 1000000000000000\n",
    "z_new = z_old-1\n",
    "z_list = []\n",
    "var_list = []\n",
    "z_fx = 0\n",
    "dbg = 1"
   ]
  },
  {
   "cell_type": "code",
   "execution_count": 274,
   "metadata": {},
   "outputs": [],
   "source": [
    "while z_new < z_old:\n",
    "    z_old = z_new\n",
    "    for index, row in locations.iterrows():\n",
    "        if row['open'] == 0:\n",
    "                z_fix = row['fixed_costs'] + z_fx\n",
    "                z = z_fix + sum([a * b for a, b in zip(list(pd.concat([I, pd.DataFrame(distances.iloc[len(range(index)),:]).T]).min()), list(customers.demand))])\n",
    "                if z < z_new:\n",
    "                    z_new = z\n",
    "                    z_fx_store = z_fix\n",
    "                    i_low = index\n",
    "    if z_new < z_old:\n",
    "        z_fx = z_fx_store\n",
    "        locations['open'].iloc[i_low] = 1\n",
    "        I = I.append(pd.DataFrame(distances.iloc[i_low,:]).T, sort=False)"
   ]
  },
  {
   "cell_type": "markdown",
   "metadata": {},
   "source": [
    "ToDo: Umschreiben der I = I.append(distances.ix[locations.ix[i_low]['plz']], sort=False) Funktion wegen pandas Update, Liste I mit kostenminimalen Lösungen vervollständigen"
   ]
  },
  {
   "cell_type": "code",
   "execution_count": 275,
   "metadata": {},
   "outputs": [
    {
     "output_type": "execute_result",
     "data": {
      "text/plain": "       plz  open  fixed_costs\n24   59821     1        10064\n66   33609     1        10308\n377  45525     1        10345\n477  50829     1        10179\n514  47807     1        10675\n625  48157     1        10067",
      "text/html": "<div>\n<style scoped>\n    .dataframe tbody tr th:only-of-type {\n        vertical-align: middle;\n    }\n\n    .dataframe tbody tr th {\n        vertical-align: top;\n    }\n\n    .dataframe thead th {\n        text-align: right;\n    }\n</style>\n<table border=\"1\" class=\"dataframe\">\n  <thead>\n    <tr style=\"text-align: right;\">\n      <th></th>\n      <th>plz</th>\n      <th>open</th>\n      <th>fixed_costs</th>\n    </tr>\n  </thead>\n  <tbody>\n    <tr>\n      <th>24</th>\n      <td>59821</td>\n      <td>1</td>\n      <td>10064</td>\n    </tr>\n    <tr>\n      <th>66</th>\n      <td>33609</td>\n      <td>1</td>\n      <td>10308</td>\n    </tr>\n    <tr>\n      <th>377</th>\n      <td>45525</td>\n      <td>1</td>\n      <td>10345</td>\n    </tr>\n    <tr>\n      <th>477</th>\n      <td>50829</td>\n      <td>1</td>\n      <td>10179</td>\n    </tr>\n    <tr>\n      <th>514</th>\n      <td>47807</td>\n      <td>1</td>\n      <td>10675</td>\n    </tr>\n    <tr>\n      <th>625</th>\n      <td>48157</td>\n      <td>1</td>\n      <td>10067</td>\n    </tr>\n  </tbody>\n</table>\n</div>"
     },
     "metadata": {},
     "execution_count": 275
    }
   ],
   "source": [
    "locations[locations['open'] == 1]"
   ]
  },
  {
   "cell_type": "code",
   "execution_count": 276,
   "metadata": {},
   "outputs": [
    {
     "output_type": "execute_result",
     "data": {
      "text/plain": "170056.49262656338"
     },
     "metadata": {},
     "execution_count": 276
    }
   ],
   "source": [
    "z_new"
   ]
  },
  {
   "cell_type": "code",
   "execution_count": null,
   "metadata": {},
   "outputs": [],
   "source": []
  }
 ],
 "metadata": {
  "language_info": {
   "codemirror_mode": {
    "name": "ipython",
    "version": 3
   },
   "file_extension": ".py",
   "mimetype": "text/x-python",
   "name": "python",
   "nbconvert_exporter": "python",
   "pygments_lexer": "ipython3",
   "version": "3.7.1-final"
  },
  "orig_nbformat": 2,
  "kernelspec": {
   "name": "python37164bit9453e983e2de49c591305564b2375abc",
   "display_name": "Python 3.7.1 64-bit"
  }
 },
 "nbformat": 4,
 "nbformat_minor": 2
}